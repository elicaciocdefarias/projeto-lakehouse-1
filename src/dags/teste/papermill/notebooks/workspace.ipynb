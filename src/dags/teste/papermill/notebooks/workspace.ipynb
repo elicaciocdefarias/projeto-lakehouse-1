{
 "cells": [
  {
   "cell_type": "code",
   "execution_count": null,
   "id": "fde0f3f2",
   "metadata": {},
   "outputs": [],
   "source": [
    "from __future__ import annotations"
   ]
  },
  {
   "cell_type": "code",
   "execution_count": null,
   "id": "3b0bb287",
   "metadata": {
    "tags": [
     "parameters"
    ]
   },
   "outputs": [],
   "source": [
    "# variavel com valor padrao que sera substituido em tempo de execucao\n",
    "msgs = None\n",
    "hello_world = None"
   ]
  },
  {
   "cell_type": "code",
   "execution_count": null,
   "id": "82441387",
   "metadata": {},
   "outputs": [],
   "source": [
    "print(msgs, hello_world)"
   ]
  },
  {
   "cell_type": "code",
   "execution_count": null,
   "id": "510c307c",
   "metadata": {},
   "outputs": [],
   "source": []
  }
 ],
 "metadata": {
  "kernelspec": {
   "display_name": ".venv",
   "language": "python",
   "name": "python3"
  },
  "language_info": {
   "codemirror_mode": {
    "name": "ipython",
    "version": 3
   },
   "file_extension": ".py",
   "mimetype": "text/x-python",
   "name": "python",
   "nbconvert_exporter": "python",
   "pygments_lexer": "ipython3",
   "version": "3.12.3"
  }
 },
 "nbformat": 4,
 "nbformat_minor": 5
}
